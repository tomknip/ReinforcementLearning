{
 "cells": [
  {
   "cell_type": "markdown",
   "metadata": {},
   "source": [
    "# Temporal Difference Learning as part of Reinforcement Learning\n",
    "**Created by Tom van Knippenberg**\n",
    "\n",
    "Reinforcement learning is the area within Artificial Intelligence where the computer learns from interactions with an environment. <br>\n",
    "The code in the repository is created from scratch using pseudocode from the book \"Reinforcement Learning\" by Phil Winder. \n",
    "\n",
    "In this notebook, the results of the these methods are shown on the Grid World example, one of the simpler examples used in Reinforcement Learning. <br>\n",
    "The notebook discusses three algorithms, namely Q-learning, SARSA learning and n-Step SARSA learning. Each method will be discussed.\n",
    "At the end of the notebook, the results from changing the rewards in the environments are changed to see what the effect is.\n",
    "\n",
    "## Environment \n",
    "The idea of the environment is that the computer learns to walk around a cliff. The environment looks as follows:\n",
    "| <pre>  </pre> \t|  <pre>  </pre> \t|   <pre>  </pre>\t|   <pre>  </pre>\t|   <pre>  </pre>\t|\n",
    "|---\t            |---\t            |---\t            |---\t            |---\t            |\n",
    "|  <pre>  </pre> \t|   \t            |   \t            |   \t            |   \t            |\n",
    "| S  \t            | C  \t            | C   \t            | C  \t            | F   \t            |\n",
    "\n",
    "The S represents the Start <br>\n",
    "The C represents the cliff and gets a reward of -100 (falling of a cliff is bad) <br>\n",
    "The whitespace represents free space and gets a reward of -1 (spending too much time on free space is not good) <br>\n",
    "The F represents the finish and gets a reward of 50 (Reaching the end point is good)\n",
    "\n"
   ]
  },
  {
   "cell_type": "code",
   "execution_count": 1,
   "metadata": {},
   "outputs": [],
   "source": [
    "import numpy as np\n",
    "import algorithms as alg\n",
    "import visualize as vis\n",
    "from collections import defaultdict\n",
    "import matplotlib.pyplot as plt\n",
    "import matplotlib.patches as patches\n",
    "\n",
    "environment = np.array([[-1, -1, -1, -1, -1],\n",
    "                        [-1, -1, -1, -1, -1],\n",
    "                        [-1, -1, -1, -1, -1],\n",
    "                        [-1, -100, -100, -100, 50]\n",
    "                        ])\n",
    "\n"
   ]
  },
  {
   "cell_type": "markdown",
   "metadata": {},
   "source": [
    "## Use of Different Algorithms\n",
    "\n",
    "### Q Learning\n",
    "Q-learrning is part of temporal difference learning. Temporal difference learning is a class of model-free reinforcement learning methods. It learns by sampling from the environment and updating current estimates. <br>\n",
    "Q-learning tries to estimate the action-value function. The algorithm looks one step ahead. This allows the algorithm to select thje best acton.\n",
    "\n",
    "Q-learning updates with the rule: <br>\n",
    "Q(s,a) <- Q(s,a) + &alpha; [r + &gamma;  argmax <sub>(a<sub>s</sub> &isin; A(s))  </sub>  Q(s', a<sub>s </sub>) - Q(s, a) ] <br>\n",
    "Where: <br>\n",
    "s = current state <br>\n",
    "s' = next state <br>\n",
    "a = action<br>\n",
    "r = reward<br>\n",
    "&alpha; = learning rate<br>\n",
    "&gamma; = discounting factor"
   ]
  },
  {
   "cell_type": "code",
   "execution_count": 2,
   "metadata": {},
   "outputs": [
    {
     "name": "stderr",
     "output_type": "stream",
     "text": [
      "100%|██████████| 1000/1000 [00:00<00:00, 4083.84it/s]\n"
     ]
    }
   ],
   "source": [
    "# Q_dic = defaultdict(alg.def_value)\n",
    "terminal_states = [(3,1), (3,2), (3,3), (3, 4)]\n",
    "rewards, Q_sa = alg.Q_Learning(environment,  terminal_states, episodes=1000, alpha=0.9, gamma=0.9, eps=0.1)"
   ]
  },
  {
   "cell_type": "markdown",
   "metadata": {},
   "source": [
    "Let's now plot the optimal path found according to Q-learning. "
   ]
  },
  {
   "cell_type": "code",
   "execution_count": 3,
   "metadata": {},
   "outputs": [
    {
     "data": {
      "image/png": "[encoded data removed]",
      "text/plain": [
       "<Figure size 432x288 with 1 Axes>"
      ]
     },
     "metadata": {
      "needs_background": "light"
     },
     "output_type": "display_data"
    }
   ],
   "source": [
    "episode = vis.see_trained_model(Q_sa, environment)\n",
    "vis.plot_path(episode, method = \"Q-Learning\")"
   ]
  },
  {
   "cell_type": "markdown",
   "metadata": {},
   "source": [
    "We can see that the agent learned a path that is very close to the cliff in the environment. This is an ideal path to the human eye as it reaches the end goal in the least amount of steps possible. "
   ]
  },
  {
   "cell_type": "markdown",
   "metadata": {},
   "source": [
    "### SARSA Learning\n",
    "Intro to SARSA-learning\n",
    "\n",
    "SARSA learning is also part of temporal difference learning. Sarsa stands for state, action, reward, state, action and corresponds to the action.\n",
    "Instead of calculating using the maximal reward to estimate the expected return, SARSA averages all the runs to estimate the expected return. This can also be seen in the update rule.  \n",
    "\n",
    "\n",
    "SARSA-learning updates with the rule: <br>\n",
    "Q(s,a) <- Q(s,a) + &alpha; [r + &gamma;  Q(s', a<sub>s </sub>) - Q(s, a) ] <br>\n",
    "Where: <br>\n",
    "s = current state <br>\n",
    "s' = next state <br>\n",
    "a = action<br>\n",
    "r = reward<br>\n",
    "&alpha; = learning rate<br>\n",
    "&gamma; = discounting factor"
   ]
  },
  {
   "cell_type": "code",
   "execution_count": 4,
   "metadata": {},
   "outputs": [
    {
     "name": "stderr",
     "output_type": "stream",
     "text": [
      "100%|██████████| 1000/1000 [00:00<00:00, 1310.70it/s]\n"
     ]
    }
   ],
   "source": [
    "rewards_sars, Q_sarsa = alg.SARSA_Learning(environment, terminal_states=[(3,1), (3,2), (3,3), (3, 4)], episodes=1000, alpha=0.9, gamma=0.9, eps=0.1)"
   ]
  },
  {
   "cell_type": "markdown",
   "metadata": {},
   "source": [
    "Let's plot the path discovered by the SARSA agent. "
   ]
  },
  {
   "cell_type": "code",
   "execution_count": 5,
   "metadata": {},
   "outputs": [
    {
     "data": {
      "image/png": "[encoded data removed]",
      "text/plain": [
       "<Figure size 432x288 with 1 Axes>"
      ]
     },
     "metadata": {
      "needs_background": "light"
     },
     "output_type": "display_data"
    }
   ],
   "source": [
    "episode_sarsa = vis.episode_SARSA(Q_sarsa, environment)\n",
    "vis.plot_path(episode_sarsa, \"SARSA\")"
   ]
  },
  {
   "cell_type": "markdown",
   "metadata": {},
   "source": [
    "SARSA is also able to find a path to the end goal. However, it takes a more risk-averse route. This is the result of the choice to calculate the expected return over all possible future actions. Comparing, Q-learning selects the best possible reward as a way to estimate the expected return. This is a more optimistic idea. "
   ]
  },
  {
   "cell_type": "markdown",
   "metadata": {},
   "source": [
    "### n-Step SARSA Learning\n",
    "An extension to SARSA learning is n-step SARSA Learning. Instead of looking one action ahead, it looks n actions ahead. This means that it needs more samples to be able to calculate the action-value estimates. However, looking ahead more steps into the future may be beneficial. Take for example the cliff, we may understand which path leads to falling of the cliff. The agent can then adjust its path in time. "
   ]
  },
  {
   "cell_type": "code",
   "execution_count": 6,
   "metadata": {},
   "outputs": [
    {
     "name": "stderr",
     "output_type": "stream",
     "text": [
      "100%|██████████| 1000/1000 [00:00<00:00, 1058.18it/s]\n"
     ]
    }
   ],
   "source": [
    "dic = alg.nStep_SARSA_Learning(environment,episodes=1000, alpha=0.1, gamma=0.9, eps=0.1, n=10)"
   ]
  },
  {
   "cell_type": "code",
   "execution_count": 7,
   "metadata": {},
   "outputs": [
    {
     "data": {
      "image/png": "[encoded data removed]",
      "text/plain": [
       "<Figure size 432x288 with 1 Axes>"
      ]
     },
     "metadata": {
      "needs_background": "light"
     },
     "output_type": "display_data"
    }
   ],
   "source": [
    "episode_sarsa_nstep = vis.episode_SARSA(dic, environment)\n",
    "vis.plot_path(episode_sarsa_nstep, \"n Step SARSA\")"
   ]
  },
  {
   "cell_type": "markdown",
   "metadata": {},
   "source": [
    "We can see that the resulting path is very similar to the path of Q-learning. "
   ]
  },
  {
   "cell_type": "markdown",
   "metadata": {},
   "source": [
    "## Reward Engineering\n",
    "Reward engineering is argued to be a crucial part in the area of Reinforcement Learning. This section investigates what happens when we use a different environment. <br>\n",
    "\n",
    "First, we investigate the effect of setting all steps,  but falling of the cliff and ending in the terminal state, to a reward of 0. Q-learning is used without discounting factor. This means that each reward holds for the whole chain of states. "
   ]
  },
  {
   "cell_type": "code",
   "execution_count": 10,
   "metadata": {},
   "outputs": [
    {
     "name": "stderr",
     "output_type": "stream",
     "text": [
      "100%|██████████| 1000/1000 [00:00<00:00, 1326.80it/s]\n"
     ]
    },
    {
     "data": {
      "image/png": "[encoded data removed]",
      "text/plain": [
       "<Figure size 432x288 with 1 Axes>"
      ]
     },
     "metadata": {
      "needs_background": "light"
     },
     "output_type": "display_data"
    }
   ],
   "source": [
    "environment = np.array([[-0, -0, -0, -0, -0],\n",
    "                        [-0, -0, -0, -0, -0],\n",
    "                        [-0, -0, -0, -0, -0],\n",
    "                        [-0, -100, -100, -100, 50]\n",
    "                        ])\n",
    "\n",
    "terminal_states = [(3,1), (3,2), (3,3), (3, 4)]\n",
    "rewards, Q_sa = alg.Q_Learning(environment,  terminal_states, episodes=1000, alpha=0.9, gamma=1, eps=0.1)\n",
    "episode = vis.see_trained_model(Q_sa, environment)\n",
    "vis.plot_path(episode, method = \"Q-Learning\")"
   ]
  },
  {
   "cell_type": "markdown",
   "metadata": {},
   "source": [
    "We can see that the agent did not learn an optimal path. It is just strolling around and eventually ends up in the terminal state. <br>\n",
    "\n",
    "Now, how can we tackle this? We may apply a discounting factor to promote the shortest path to the end goal. See the result below. The environment did not have an effect on the agent learning an optimal path. "
   ]
  },
  {
   "cell_type": "code",
   "execution_count": 9,
   "metadata": {},
   "outputs": [
    {
     "name": "stderr",
     "output_type": "stream",
     "text": [
      "100%|██████████| 50/50 [00:00<00:00, 1279.25it/s]\n"
     ]
    },
    {
     "data": {
      "image/png": "[encoded data removed]",
      "text/plain": [
       "<Figure size 432x288 with 1 Axes>"
      ]
     },
     "metadata": {
      "needs_background": "light"
     },
     "output_type": "display_data"
    }
   ],
   "source": [
    "# Apply discounting rewards to speed up the path\n",
    "rewards, Q_sa = alg.Q_Learning(environment,  terminal_states, episodes=50, alpha=0.9, gamma=0.8, eps=0.1)\n",
    "episode = vis.see_trained_model(Q_sa, environment)\n",
    "vis.plot_path(episode, method = \"Q-Learning\")"
   ]
  }
 ],
 "metadata": {
  "kernelspec": {
   "display_name": "Python 3",
   "language": "python",
   "name": "python3"
  },
  "language_info": {
   "codemirror_mode": {
    "name": "ipython",
    "version": 3
   },
   "file_extension": ".py",
   "mimetype": "text/x-python",
   "name": "python",
   "nbconvert_exporter": "python",
   "pygments_lexer": "ipython3",
   "version": "3.8.5"
  }
 },
 "nbformat": 4,
 "nbformat_minor": 4
}
